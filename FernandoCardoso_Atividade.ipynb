{
  "nbformat": 4,
  "nbformat_minor": 0,
  "metadata": {
    "colab": {
      "provenance": []
    },
    "kernelspec": {
      "name": "python3",
      "display_name": "Python 3"
    },
    "language_info": {
      "name": "python"
    }
  },
  "cells": [
    {
      "cell_type": "markdown",
      "source": [
        "Nome: Fernando Cardoso\n",
        "\n",
        "Atividade: Exerícios iniciais\n",
        "\n",
        "Matéria: Laboratório de Programação II"
      ],
      "metadata": {
        "id": "tquTEK521rqp"
      }
    },
    {
      "cell_type": "code",
      "execution_count": null,
      "metadata": {
        "colab": {
          "base_uri": "https://localhost:8080/"
        },
        "id": "exVd_MQj1ln_",
        "outputId": "f813bf7d-fc6e-42bf-d4fa-780731d67523"
      },
      "outputs": [
        {
          "output_type": "stream",
          "name": "stdout",
          "text": [
            "Hello World\n"
          ]
        }
      ],
      "source": [
        "# 1) Faça um programa que mostre o tradicional \"Hello World\" na tela\n",
        "\n",
        "print('Hello World')"
      ]
    },
    {
      "cell_type": "code",
      "source": [
        "# 2) Faça um programa que peça um número e então mostre a mensagem:\n",
        "# O número informado foi [número]\n",
        "\n",
        "num = int(input('Digite um numero: '))\n",
        "print(f'O número informado foi {num}')"
      ],
      "metadata": {
        "colab": {
          "base_uri": "https://localhost:8080/"
        },
        "id": "XI_3tF7u4v9q",
        "outputId": "c500114c-0107-48f1-ccb1-3df99c49a431"
      },
      "execution_count": null,
      "outputs": [
        {
          "output_type": "stream",
          "name": "stdout",
          "text": [
            "Digite um numero: 4\n",
            "O número informado foi 4\n"
          ]
        }
      ]
    },
    {
      "cell_type": "code",
      "source": [
        "# 3) (Sem estruturas de repetição) Faça um programa que peça 5 itens\n",
        "# e suas respecitvas quantidades e mostre na tela a lista de itens com a quantidade,\n",
        "# Item 1 - Quantidade: V; Item 2 - Quantidade: W ...\n",
        "\n",
        "item1  = input('Digite o primeiro item: ')\n",
        "q_item1 = int(input(f'Qual a quantidade do item - {item1}: '))\n",
        "\n",
        "item2  = input('Digite o primeiro item: ')\n",
        "q_item2 = int(input(f'Qual a quantidade do item - {item2}: '))\n",
        "\n",
        "item3  = input('Digite o primeiro item: ')\n",
        "q_item3 = int(input(f'Qual a quantidade do item - {item3}: '))\n",
        "\n",
        "item4  = input('Digite o primeiro item: ')\n",
        "q_item4 = int(input(f'Qual a quantidade do item - {item4}: '))\n",
        "\n",
        "item5  = input('Digite o primeiro item: ')\n",
        "q_item5 = int(input(f'Qual a quantidade do item - {item5}: '))\n",
        "\n",
        "\n",
        "\n",
        "print(f'{item1} - Quantidade: {q_item1}')\n",
        "print(f'{item2} - Quantidade: {q_item2}')\n",
        "print(f'{item3} - Quantidade: {q_item3}')\n",
        "print(f'{item4} - Quantidade: {q_item4}')\n",
        "print(f'{item5} - Quantidade: {q_item5}')"
      ],
      "metadata": {
        "colab": {
          "base_uri": "https://localhost:8080/"
        },
        "id": "Vis4GJp_4xeY",
        "outputId": "ecbf270a-c8b0-497e-9c3e-0a83fbce13d4"
      },
      "execution_count": null,
      "outputs": [
        {
          "output_type": "stream",
          "name": "stdout",
          "text": [
            "Digite o primeiro item: Bola\n",
            "Qual a quantidade do item - Bola: 6\n",
            "Digite o primeiro item: Raquete\n",
            "Qual a quantidade do item - Raquete: 3\n",
            "Digite o primeiro item: Toalha\n",
            "Qual a quantidade do item - Toalha: 4\n",
            "Digite o primeiro item: Cadeira\n",
            "Qual a quantidade do item - Cadeira: 23\n",
            "Digite o primeiro item: Caderno\n",
            "Qual a quantidade do item - Caderno: 8\n",
            "Bola - Quantidade: 6\n",
            "Raquete - Quantidade: 3\n",
            "Toalha - Quantidade: 4\n",
            "Cadeira - Quantidade: 23\n",
            "Caderno - Quantidade: 8\n"
          ]
        }
      ]
    },
    {
      "cell_type": "code",
      "source": [
        "# 4) Criar uma lista de compra com as seguintes regras:\n",
        "\n",
        "# - É necessário um total de 5 frutas;\n",
        "# A primeira fruta deve custar R$ 1,00;\n",
        "# A segunda fruta deve custar o dobro do valor da primeira;\n",
        "# A terceira fruta deve custar metade do valor da primeira;\n",
        "# A quarta fruta deve custar 3 vezes o valor da terceira fruta;\n",
        "# A quinta fruta deve custar metade do valor da quarta;\n",
        "# Cada fruta deve possuir uma variável;\n",
        "# Usar a menor quantidade possível de variáveis;\n",
        "# Todas as frutas e seus valores devem ser impressos no seguinte formato: \"A fruta _____ custa ______\"\n",
        "\n",
        "fruta1 = input('Digite o nome da primeira fruta: ')\n",
        "fruta2 = input('Digite o nome da segunda fruta: ')\n",
        "fruta3 = input('Digite o nome da terceira fruta: ')\n",
        "fruta4 = input('Digite o nome da quarta fruta: ')\n",
        "fruta5 = input('Digite o nome da quinta fruta: ')\n",
        "\n",
        "preco_final_1 = 1\n",
        "preco_final_2 = preco_final_1 * 2\n",
        "preco_final_3 = preco_final_1 / 2\n",
        "preco_final_4 = preco_final_3 * 3\n",
        "preco_final_5 = preco_final_4 / 2\n",
        "\n",
        "print(f'A primeira fruta {fruta1} custa R$ {preco_final_1}')\n",
        "print(f'A segunda fruta {fruta2} custa R$ {preco_final_2}')\n",
        "print(f'A terceira fruta {fruta3} custa R$ {preco_final_3}')\n",
        "print(f'A quarta fruta {fruta4} custa R$ {preco_final_4}')\n",
        "print(f'A quinta fruta {fruta5} custa R$ {preco_final_5}')"
      ],
      "metadata": {
        "id": "EHvCmsiP2cHD",
        "colab": {
          "base_uri": "https://localhost:8080/"
        },
        "outputId": "bdcd0fb4-78f4-4ab7-e3f7-076da1c0a705"
      },
      "execution_count": null,
      "outputs": [
        {
          "output_type": "stream",
          "name": "stdout",
          "text": [
            "Digite o nome da primeira fruta: Banana\n",
            "Digite o nome da segunda fruta: Maçã\n",
            "Digite o nome da terceira fruta: Uva\n",
            "Digite o nome da quarta fruta: Melancia\n",
            "Digite o nome da quinta fruta: Melão\n",
            "A primeira fruta Banana custa R$ 1\n",
            "A segunda fruta Maçã custa R$ 2\n",
            "A terceira fruta Uva custa R$ 0.5\n",
            "A quarta fruta Melancia custa R$ 1.5\n",
            "A quinta fruta Melão custa R$ 0.75\n"
          ]
        }
      ]
    },
    {
      "cell_type": "code",
      "source": [
        "# 5) Faça um dicionário que contenha os dados de uma pessoa, são os seguintes daods: (Preencha os dados iniciais como preferir)\n",
        "# Dados: Nome; Ultimo nome; idade; curso; endereço\n",
        "# A) Imprima o dicionário completo\n",
        "# B) Imprima cada um dos 5 itens separadamente\n",
        "# C) Exclua a chave CURSO do dicionário\n",
        "# D) Altere o ULTIMO NOME para Lopes\n",
        "# E) Imprima novamente o dicionário completo\n",
        "# F) Imprima apenas o endereço\n",
        "# G) Crie uma cópia do dicionpario e altere NOME e IDADE\n",
        "# H) Imprima o segundo dicionário completo\n",
        "\n",
        "# Preencha os dados iniciais da pessoa\n",
        "dicionario_dados_pessoas = {\n",
        "    'Nome': 'Fernando',\n",
        "    'Ultimo nome': 'Cardoso',\n",
        "    'Idade': 20,\n",
        "    'Curso': 'Big Data para Negócios',\n",
        "    'Endereço': 'Rua X, 1001'\n",
        "}\n",
        "\n",
        "# A) Imprima o dicionário completo\n",
        "print(dicionario_dados_pessoas)\n",
        "\n",
        "# B) Imprima cada um dos 5 itens separadamente\n",
        "print(\"Nome:\", dicionario_dados_pessoas['Nome'])\n",
        "print(\"Ultimo nome:\", dicionario_dados_pessoas['Ultimo nome'])\n",
        "print(\"Idade:\", dicionario_dados_pessoas['Idade'])\n",
        "print(\"Curso:\", dicionario_dados_pessoas['Curso'])\n",
        "print(\"Endereço:\", dicionario_dados_pessoas['Endereço'])\n",
        "\n",
        "# C) Exclua a chave CURSO do dicionário\n",
        "del dicionario_dados_pessoas['Curso']\n",
        "\n",
        "# D) Altere o ULTIMO NOME para Lopes\n",
        "dicionario_dados_pessoas['Ultimo nome'] = 'Lopes'\n",
        "\n",
        "# E) Imprima novamente o dicionário completo\n",
        "print(dicionario_dados_pessoas)\n",
        "\n",
        "# F) Imprima apenas o endereço\n",
        "print(\"\\n Endereço:\")\n",
        "print(dicionario_dados_pessoas['Endereço'])\n",
        "\n",
        "# G) Crie uma cópia do dicionário e altere NOME e IDADE\n",
        "copia_dicionario_dados_pessoas = dicionario_dados_pessoas.copy()\n",
        "copia_dicionario_dados_pessoas['Nome'] = 'Jefferson'\n",
        "copia_dicionario_dados_pessoas['Idade'] = 24\n",
        "\n",
        "# H) Imprima o segundo dicionário completo\n",
        "print(\"\\n Segundo dicionário completo:\")\n",
        "print(copia_dicionario_dados_pessoas)\n"
      ],
      "metadata": {
        "id": "V6iLdrvr3SqR",
        "colab": {
          "base_uri": "https://localhost:8080/"
        },
        "outputId": "4777505b-3334-4158-8334-b39fe7206015"
      },
      "execution_count": null,
      "outputs": [
        {
          "output_type": "stream",
          "name": "stdout",
          "text": [
            "{'Nome': 'Fernando', 'Ultimo nome': 'Cardoso', 'Idade': 20, 'Curso': 'Big Data para Negócios', 'Endereço': 'Rua X, 1001'}\n",
            "Nome: Fernando\n",
            "Ultimo nome: Cardoso\n",
            "Idade: 20\n",
            "Curso: Big Data para Negócios\n",
            "Endereço: Rua X, 1001\n",
            "{'Nome': 'Fernando', 'Ultimo nome': 'Lopes', 'Idade': 20, 'Endereço': 'Rua X, 1001'}\n",
            "\n",
            " Endereço:\n",
            "Rua X, 1001\n",
            "\n",
            " Segundo dicionário completo:\n",
            "{'Nome': 'Jefferson', 'Ultimo nome': 'Lopes', 'Idade': 24, 'Endereço': 'Rua X, 1001'}\n"
          ]
        }
      ]
    }
  ]
}